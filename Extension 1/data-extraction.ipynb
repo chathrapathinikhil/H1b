{
 "cells": [
  {
   "cell_type": "code",
   "execution_count": 13,
   "metadata": {},
   "outputs": [],
   "source": [
    "from selenium import webdriver\n",
    "from selenium.webdriver.common.by import By\n",
    "from selenium.webdriver.chrome.service import Service\n",
    "from webdriver_manager.chrome import ChromeDriverManager"
   ]
  },
  {
   "cell_type": "code",
   "execution_count": 14,
   "metadata": {},
   "outputs": [],
   "source": [
    "# Set up the WebDriver\n",
    "driver = webdriver.Chrome(service=Service(ChromeDriverManager().install()))"
   ]
  },
  {
   "cell_type": "code",
   "execution_count": 25,
   "metadata": {},
   "outputs": [],
   "source": [
    "# Open LinkedIn Jobs page\n",
    "for i in range(3):\n",
    "    driver.get(f'https://www.linkedin.com/jobs/search?trk=guest_homepage-basic_guest_nav_menu_jobs&position=1&pageNum={i}')"
   ]
  },
  {
   "cell_type": "code",
   "execution_count": 20,
   "metadata": {},
   "outputs": [],
   "source": [
    "# Allow time for the page to load\n",
    "import time\n",
    "time.sleep(5)"
   ]
  },
  {
   "cell_type": "code",
   "execution_count": 24,
   "metadata": {},
   "outputs": [],
   "source": [
    "job_listings = driver.find_elements(By.CLASS_NAME, 'base-search-card__info')\n",
    "\n",
    "company_names = []\n",
    "\n",
    "for job in job_listings:\n",
    "    try:\n",
    "        # Extract company name from each job listing\n",
    "        company_name = job.find_element(By.CLASS_NAME, 'base-search-card__subtitle').text\n",
    "        company_names.append(company_name)\n",
    "    except Exception as e:\n",
    "        print(f\"Error extracting company name: {e}\")\n"
   ]
  },
  {
   "cell_type": "code",
   "execution_count": 22,
   "metadata": {},
   "outputs": [
    {
     "name": "stdout",
     "output_type": "stream",
     "text": [
      "Vial\n",
      "Environmental Intellect\n",
      "City of Killeen, Texas\n",
      "USDA\n",
      "UCLA Health\n",
      "UCLA Health\n",
      "TRUEWERK\n",
      "City of Killeen, Texas\n",
      "Tia\n",
      "Trove Brands\n",
      "UCLA Health\n",
      "Red Bull\n",
      "American Express\n",
      "Outcomes4Me\n",
      "H2 Performance Consulting\n",
      "UCLA Health\n",
      "Actalent\n",
      "UCLA Health\n",
      "Cohen & Steers\n",
      "ITW Permatex\n",
      "VAJ Design\n",
      "Natcast.org\n",
      "San Diego Metropolitan Transit System (MTS)\n",
      "USDA\n",
      "Salcomp Manufacturing USA\n",
      "Carbon Engineering\n",
      "breef\n",
      "D&G Support Services\n",
      "Chameleon Collective\n",
      "American Express\n",
      "USDA\n",
      "KB Home\n",
      "Nautique Boat Company\n",
      "nfolks\n",
      "UCLA Health\n",
      "HMP Global\n",
      "BIC Recruiting\n",
      "Victoria’s Secret & Co.\n",
      "Summit School District\n",
      "USDA\n",
      "Trustmark\n",
      "Grid Status\n",
      "Renesas Electronics\n",
      "Palmetto Technology Group (PTG)\n",
      "Carbon Engineering\n",
      "Actalent\n",
      "Actalent\n",
      "Confidential Company\n",
      "HMA Mortgage\n",
      "Queensborough National Bank and Trust Co.\n",
      "Actalent\n",
      "BlueCross BlueShield of South Carolina\n",
      "The Enclave at Gilbert Senior Living\n",
      "Amazon Web Services (AWS)\n",
      "USDA\n",
      "Guardant Health\n",
      "SXSW\n",
      "Trove Brands\n",
      "Actalent\n",
      "Barcadia Bar & Grill\n"
     ]
    }
   ],
   "source": [
    "# Print extracted company names\n",
    "for name in company_names:\n",
    "    print(name)"
   ]
  },
  {
   "cell_type": "code",
   "execution_count": 27,
   "metadata": {},
   "outputs": [],
   "source": [
    "# Close the driver\n",
    "driver.quit()"
   ]
  }
 ],
 "metadata": {
  "kernelspec": {
   "display_name": "Python 3",
   "language": "python",
   "name": "python3"
  },
  "language_info": {
   "codemirror_mode": {
    "name": "ipython",
    "version": 3
   },
   "file_extension": ".py",
   "mimetype": "text/x-python",
   "name": "python",
   "nbconvert_exporter": "python",
   "pygments_lexer": "ipython3",
   "version": "3.11.5"
  }
 },
 "nbformat": 4,
 "nbformat_minor": 2
}
